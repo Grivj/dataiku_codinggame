{
 "cells": [
  {
   "cell_type": "code",
   "execution_count": 19,
   "metadata": {},
   "outputs": [
    {
     "name": "stdout",
     "output_type": "stream",
     "text": [
      "The autoreload extension is already loaded. To reload it, use:\n",
      "  %reload_ext autoreload\n",
      "Trips:  [(['Tatooine', Dagobah, Dagobah, Hoth, Endor], 0.9), (['Tatooine', Dagobah, Dagobah, Dagobah, Hoth, Endor], 1)]\n",
      "Maximum success probability:  1\n",
      "Maximum success probability trip:  ['Tatooine', Dagobah, Dagobah, Dagobah, Hoth, Endor]\n"
     ]
    }
   ],
   "source": [
    "%load_ext autoreload\n",
    "%autoreload 2\n",
    "\n",
    "from falcon import Falcon\n",
    "from empire import Empire\n",
    "from tripadvisor import TripAdvisor\n",
    "from trip import Trip\n",
    "\n",
    "F = Falcon(\"falcon_data.json\")\n",
    "E = Empire(\"empire_data.json\")\n",
    "TA = TripAdvisor()\n",
    "TA(Trip(F, E, \"Tatooine\", \"Endor\"))\n",
    "\n",
    "print(\"Trips: \", [(t.path, t.success_probability) for t in TA.trips])\n",
    "print(\"Maximum success probability: \", max(t.success_probability for t in TA.trips))\n",
    "print(\n",
    "    \"Maximum success probability trip: \",\n",
    "    sorted([(t.path, t.success_probability) for t in TA.trips], key=lambda x: x[1], reverse=True)[0][0]\n",
    ")"
   ]
  },
  {
   "cell_type": "code",
   "execution_count": null,
   "metadata": {},
   "outputs": [],
   "source": []
  }
 ],
 "metadata": {
  "interpreter": {
   "hash": "9474f29699917144b1cf6d1f974d0d77bbd3e9cc97793190ec6042a28b2042d4"
  },
  "kernelspec": {
   "display_name": "Python 3.10.1 64-bit",
   "language": "python",
   "name": "python3"
  },
  "language_info": {
   "codemirror_mode": {
    "name": "ipython",
    "version": 3
   },
   "file_extension": ".py",
   "mimetype": "text/x-python",
   "name": "python",
   "nbconvert_exporter": "python",
   "pygments_lexer": "ipython3",
   "version": "3.10.1"
  },
  "orig_nbformat": 4
 },
 "nbformat": 4,
 "nbformat_minor": 2
}
