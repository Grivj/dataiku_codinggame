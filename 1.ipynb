{
 "cells": [
  {
   "cell_type": "code",
   "execution_count": 2,
   "metadata": {},
   "outputs": [
    {
     "ename": "NameError",
     "evalue": "name 'Planet' is not defined",
     "output_type": "error",
     "traceback": [
      "\u001b[1;31m---------------------------------------------------------------------------\u001b[0m",
      "\u001b[1;31mNameError\u001b[0m                                 Traceback (most recent call last)",
      "\u001b[1;32m~\\AppData\\Local\\Temp/ipykernel_12592/2616096648.py\u001b[0m in \u001b[0;36m<module>\u001b[1;34m\u001b[0m\n\u001b[0;32m     39\u001b[0m \u001b[1;33m\u001b[0m\u001b[0m\n\u001b[0;32m     40\u001b[0m \u001b[1;33m\u001b[0m\u001b[0m\n\u001b[1;32m---> 41\u001b[1;33m \u001b[0mF\u001b[0m \u001b[1;33m=\u001b[0m \u001b[0mFalcon\u001b[0m\u001b[1;33m(\u001b[0m\u001b[1;34m\"falcon.json\"\u001b[0m\u001b[1;33m)\u001b[0m\u001b[1;33m\u001b[0m\u001b[1;33m\u001b[0m\u001b[0m\n\u001b[0m\u001b[0;32m     42\u001b[0m \u001b[0mF\u001b[0m\u001b[1;33m.\u001b[0m\u001b[0mroutes\u001b[0m\u001b[1;33m\u001b[0m\u001b[1;33m\u001b[0m\u001b[0m\n",
      "\u001b[1;32m~\\AppData\\Local\\Temp/ipykernel_12592/2616096648.py\u001b[0m in \u001b[0;36m__init__\u001b[1;34m(self, falcon_json_path)\u001b[0m\n\u001b[0;32m     27\u001b[0m         \u001b[0mself\u001b[0m\u001b[1;33m.\u001b[0m\u001b[0mdata\u001b[0m \u001b[1;33m=\u001b[0m \u001b[0mdecrypt_json\u001b[0m\u001b[1;33m(\u001b[0m\u001b[0mfalcon_json_path\u001b[0m\u001b[1;33m)\u001b[0m\u001b[1;33m\u001b[0m\u001b[1;33m\u001b[0m\u001b[0m\n\u001b[0;32m     28\u001b[0m         \u001b[0mself\u001b[0m\u001b[1;33m.\u001b[0m\u001b[0mautonomy\u001b[0m \u001b[1;33m=\u001b[0m \u001b[0mself\u001b[0m\u001b[1;33m.\u001b[0m\u001b[0mdata\u001b[0m\u001b[1;33m[\u001b[0m\u001b[1;34m\"autonomy\"\u001b[0m\u001b[1;33m]\u001b[0m\u001b[1;33m\u001b[0m\u001b[1;33m\u001b[0m\u001b[0m\n\u001b[1;32m---> 29\u001b[1;33m         \u001b[0mself\u001b[0m\u001b[1;33m.\u001b[0m\u001b[0mroutes\u001b[0m \u001b[1;33m=\u001b[0m \u001b[0mself\u001b[0m\u001b[1;33m.\u001b[0m\u001b[0m_build_routes\u001b[0m\u001b[1;33m(\u001b[0m\u001b[0mself\u001b[0m\u001b[1;33m.\u001b[0m\u001b[0mdata\u001b[0m\u001b[1;33m[\u001b[0m\u001b[1;34m\"routes\"\u001b[0m\u001b[1;33m]\u001b[0m\u001b[1;33m)\u001b[0m\u001b[1;33m\u001b[0m\u001b[1;33m\u001b[0m\u001b[0m\n\u001b[0m\u001b[0;32m     30\u001b[0m \u001b[1;33m\u001b[0m\u001b[0m\n\u001b[0;32m     31\u001b[0m     \u001b[1;32mdef\u001b[0m \u001b[0m_build_routes\u001b[0m\u001b[1;33m(\u001b[0m\u001b[0mself\u001b[0m\u001b[1;33m,\u001b[0m \u001b[0mroutes_json\u001b[0m\u001b[1;33m:\u001b[0m \u001b[0mdict\u001b[0m\u001b[1;33m[\u001b[0m\u001b[0mlist\u001b[0m\u001b[1;33m]\u001b[0m\u001b[1;33m)\u001b[0m \u001b[1;33m->\u001b[0m \u001b[0mdict\u001b[0m\u001b[1;33m:\u001b[0m\u001b[1;33m\u001b[0m\u001b[1;33m\u001b[0m\u001b[0m\n",
      "\u001b[1;32m~\\AppData\\Local\\Temp/ipykernel_12592/2616096648.py\u001b[0m in \u001b[0;36m_build_routes\u001b[1;34m(self, routes_json)\u001b[0m\n\u001b[0;32m     32\u001b[0m         \u001b[0mroutes\u001b[0m \u001b[1;33m=\u001b[0m \u001b[1;33m{\u001b[0m\u001b[1;33m}\u001b[0m\u001b[1;33m\u001b[0m\u001b[1;33m\u001b[0m\u001b[0m\n\u001b[0;32m     33\u001b[0m         \u001b[1;32mfor\u001b[0m \u001b[0mroute\u001b[0m \u001b[1;32min\u001b[0m \u001b[0mroutes_json\u001b[0m\u001b[1;33m:\u001b[0m\u001b[1;33m\u001b[0m\u001b[1;33m\u001b[0m\u001b[0m\n\u001b[1;32m---> 34\u001b[1;33m             \u001b[0mroute\u001b[0m \u001b[1;33m=\u001b[0m \u001b[0mRoute\u001b[0m\u001b[1;33m(\u001b[0m\u001b[1;33m**\u001b[0m\u001b[0mroute\u001b[0m\u001b[1;33m)\u001b[0m\u001b[1;33m\u001b[0m\u001b[1;33m\u001b[0m\u001b[0m\n\u001b[0m\u001b[0;32m     35\u001b[0m             \u001b[1;32mif\u001b[0m \u001b[0mroute\u001b[0m\u001b[1;33m.\u001b[0m\u001b[0morigin\u001b[0m \u001b[1;32mnot\u001b[0m \u001b[1;32min\u001b[0m \u001b[0mroutes\u001b[0m\u001b[1;33m:\u001b[0m\u001b[1;33m\u001b[0m\u001b[1;33m\u001b[0m\u001b[0m\n\u001b[0;32m     36\u001b[0m                 \u001b[0mroutes\u001b[0m\u001b[1;33m[\u001b[0m\u001b[0mroute\u001b[0m\u001b[1;33m.\u001b[0m\u001b[0morigin\u001b[0m\u001b[1;33m]\u001b[0m \u001b[1;33m=\u001b[0m \u001b[1;33m{\u001b[0m\u001b[1;33m}\u001b[0m\u001b[1;33m\u001b[0m\u001b[1;33m\u001b[0m\u001b[0m\n",
      "\u001b[1;32m~\\AppData\\Local\\Temp/ipykernel_12592/2616096648.py\u001b[0m in \u001b[0;36m__init__\u001b[1;34m(self, origin, destination, travelTime)\u001b[0m\n\u001b[0;32m     12\u001b[0m \u001b[1;33m\u001b[0m\u001b[0m\n\u001b[0;32m     13\u001b[0m     \u001b[1;32mdef\u001b[0m \u001b[0m__init__\u001b[0m\u001b[1;33m(\u001b[0m\u001b[0mself\u001b[0m\u001b[1;33m,\u001b[0m \u001b[0morigin\u001b[0m\u001b[1;33m:\u001b[0m \u001b[0mstr\u001b[0m\u001b[1;33m,\u001b[0m \u001b[0mdestination\u001b[0m\u001b[1;33m:\u001b[0m \u001b[0mstr\u001b[0m\u001b[1;33m,\u001b[0m \u001b[0mtravelTime\u001b[0m\u001b[1;33m:\u001b[0m \u001b[0mint\u001b[0m\u001b[1;33m)\u001b[0m\u001b[1;33m:\u001b[0m\u001b[1;33m\u001b[0m\u001b[1;33m\u001b[0m\u001b[0m\n\u001b[1;32m---> 14\u001b[1;33m         \u001b[0mself\u001b[0m\u001b[1;33m.\u001b[0m\u001b[0morigin\u001b[0m \u001b[1;33m=\u001b[0m \u001b[0mPlanet\u001b[0m\u001b[1;33m(\u001b[0m\u001b[0morigin\u001b[0m\u001b[1;33m)\u001b[0m\u001b[1;33m\u001b[0m\u001b[1;33m\u001b[0m\u001b[0m\n\u001b[0m\u001b[0;32m     15\u001b[0m         \u001b[0mself\u001b[0m\u001b[1;33m.\u001b[0m\u001b[0mdestination\u001b[0m \u001b[1;33m=\u001b[0m \u001b[0mPlanet\u001b[0m\u001b[1;33m(\u001b[0m\u001b[0mdestination\u001b[0m\u001b[1;33m)\u001b[0m\u001b[1;33m\u001b[0m\u001b[1;33m\u001b[0m\u001b[0m\n\u001b[0;32m     16\u001b[0m         \u001b[0mself\u001b[0m\u001b[1;33m.\u001b[0m\u001b[0mtravel_time\u001b[0m \u001b[1;33m=\u001b[0m \u001b[0mtravelTime\u001b[0m\u001b[1;33m\u001b[0m\u001b[1;33m\u001b[0m\u001b[0m\n",
      "\u001b[1;31mNameError\u001b[0m: name 'Planet' is not defined"
     ]
    }
   ],
   "source": [
    "from __future__ import annotations\n",
    "import json\n",
    "\n",
    "\n",
    "def decrypt_json(json_path: str) -> dict:\n",
    "    with open(json_path) as f:\n",
    "        return json.load(f)\n",
    "\n",
    "\n",
    "class Route:\n",
    "    \"\"\"Edges\"\"\"\n",
    "\n",
    "    def __init__(self, origin: str, destination: str, travelTime: int):\n",
    "        self.origin = Planet(origin)\n",
    "        self.destination = Planet(destination)\n",
    "        self.travel_time = travelTime\n",
    "\n",
    "    def __repr__(self):\n",
    "        return f\"{self.origin}, {self.destination}, {self.travel_time}\"\n",
    "\n",
    "\n",
    "\n",
    "\n",
    "\n",
    "class Falcon:\n",
    "    def __init__(self, falcon_json_path: str):\n",
    "        self.data = decrypt_json(falcon_json_path)\n",
    "        self.autonomy = self.data[\"autonomy\"]\n",
    "        self.routes = self._build_routes(self.data[\"routes\"])\n",
    "\n",
    "    def _build_routes(self, routes_json: dict[list]) -> dict:\n",
    "        routes = {}\n",
    "        for route in routes_json:\n",
    "            route = Route(**route)\n",
    "            if route.origin not in routes:\n",
    "                routes[route.origin] = {}\n",
    "            routes[route.origin][route.destination] = route.travel_time\n",
    "        return routes\n",
    "\n",
    "\n",
    "F = Falcon(\"falcon.json\")\n",
    "F.routes\n"
   ]
  },
  {
   "cell_type": "code",
   "execution_count": null,
   "metadata": {},
   "outputs": [],
   "source": [
    "class Planet:\n",
    "    def __init__(self, name: str):\n",
    "        self.name = name\n",
    "\n",
    "    def __hash__(self):\n",
    "        return hash(str(self))\n",
    "\n",
    "    def __str__(self):\n",
    "        return self.name\n",
    "\n",
    "    def __repr__(self):\n",
    "        return self.name\n",
    "\n",
    "    def __eq__(self, other: Planet):\n",
    "        if isinstance(other, Planet):\n",
    "            return self.name == other.name\n",
    "        if isinstance(other, str):\n",
    "            return self.name == other\n"
   ]
  },
  {
   "cell_type": "code",
   "execution_count": null,
   "metadata": {},
   "outputs": [],
   "source": [
    "class Empire:\n",
    "    def __init__(self, empire_json_path: str):\n",
    "        self.data = decrypt_json(empire_json_path)\n",
    "        self.countdown = self.data[\"countdown\"]\n",
    "        self.bounty_hunters = self._build_hunters_positions(self.data[\"bounty_hunters\"])\n",
    "\n",
    "    def _build_hunters_positions(self, hunters_list: list[dict]):\n",
    "        positions = {}\n",
    "        for hunter in hunters_list:\n",
    "            planet, day = hunter.values()\n",
    "            if planet not in positions:\n",
    "                positions[planet] = []\n",
    "            positions[planet].append(day)\n",
    "        return positions\n",
    "\n",
    "\n",
    "E = Empire(\"empire.json\")\n"
   ]
  },
  {
   "cell_type": "code",
   "execution_count": null,
   "metadata": {},
   "outputs": [
    {
     "data": {
      "text/plain": [
       "{Dagobah: 6, Hoth: 6}"
      ]
     },
     "execution_count": 330,
     "metadata": {},
     "output_type": "execute_result"
    }
   ],
   "source": [
    "class Trip:\n",
    "    def __init__(self, falcon: Falcon, empire: Empire, start: Planet, end: Planet):\n",
    "        self.path = [start]\n",
    "\n",
    "        self.routes = falcon.routes\n",
    "        self.autonomy = falcon.autonomy\n",
    "        self.tank = falcon.autonomy\n",
    "        self.bounty_hunters = empire.bounty_hunters\n",
    "        self.countdown = empire.countdown\n",
    "        self.start = start\n",
    "        self.end = end\n",
    "        self.day = 0\n",
    "        self.days_with_hunters = 0\n",
    "\n",
    "    @property\n",
    "    def neighbors(self):\n",
    "        return (\n",
    "            self.routes[self.current_planet]\n",
    "            if self.current_planet in self.routes\n",
    "            else []\n",
    "        )\n",
    "\n",
    "    @property\n",
    "    def current_planet(self):\n",
    "        return self.path[-1]\n",
    "\n",
    "    def are_hunters_here(self) -> bool:\n",
    "        if self.current_planet in self.bounty_hunters:\n",
    "            return self.day in self.bounty_hunters[self.current_planet]\n",
    "        return False\n",
    "\n",
    "    def is_tank_empty(self) -> bool:\n",
    "        return self.tank == 0\n",
    "\n",
    "    def is_out_of_time(self, travel_time: int = 0) -> bool:\n",
    "        return self.day + travel_time > self.countdown\n",
    "\n",
    "    def is_arrived(self) -> bool:\n",
    "        return self.current_planet == self.end\n",
    "\n",
    "    def refuel(self) -> None:\n",
    "        self.tank = self.autonomy\n",
    "        self.day += 1\n",
    "        self.path += [self.current_planet]\n",
    "        self.days_with_hunters += self.are_hunters_here()\n",
    "\n",
    "    def travel(self, destination: Planet) -> None:\n",
    "        if destination not in self.neighbors:\n",
    "            raise ValueError(\"This destination is not a neighbor planet.\")\n",
    "        if self.is_arrived():\n",
    "            raise ValueError(\"Already arrived!\")\n",
    "        distance = self.neighbors[destination]\n",
    "        if self.is_out_of_time(distance):\n",
    "            raise ValueError(\"Out of time!\")\n",
    "        if distance > self.tank:\n",
    "            raise ValueError(\n",
    "                \"The tank is not filled enough to travel to the destination.\"\n",
    "            )\n",
    "        self.path += [destination]\n",
    "        self.tank -= distance\n",
    "        self.day += distance\n",
    "        self.days_with_hunters += self.are_hunters_here()\n",
    "\n",
    "\n",
    "t = Trip(F, E, \"Tatooine\", \"Endor\")\n",
    "t.neighbors\n"
   ]
  },
  {
   "cell_type": "code",
   "execution_count": null,
   "metadata": {},
   "outputs": [
    {
     "name": "stdout",
     "output_type": "stream",
     "text": [
      "False\n"
     ]
    }
   ],
   "source": [
    "class C3PO:\n",
    "    def __init__(self, falcon: Falcon, empire: Empire):\n",
    "        self.falcon = falcon\n",
    "        self.empire = empire\n",
    "\n",
    "    def trip_explorer(self, start: Planet, end: Planet):\n",
    "        trip = Trip(self.falcon, self.empire, start, end)\n",
    "\n",
    "        def _explorer(trip: Trip):\n",
    "            if trip.is_arrived():\n",
    "                \n",
    "\n",
    "            for neighbor in trip.neighbors:\n",
    "                try:\n",
    "                    neighbor_trip = trip\n",
    "                    neighbor_trip.travel(neighbor)\n",
    "                    self._explorer(neighbor_trip)\n",
    "                except:\n",
    "                    del trip\n",
    "\n",
    "            try:\n",
    "                trip.refuel()\n",
    "                self._explorer(trip)\n",
    "            except:\n",
    "                del trip\n",
    "            \n",
    "c3po = C3PO(F, E)\n",
    "c3po.trip_explorer(\"D\", \"E\")\n"
   ]
  },
  {
   "cell_type": "code",
   "execution_count": null,
   "metadata": {},
   "outputs": [],
   "source": []
  },
  {
   "cell_type": "code",
   "execution_count": null,
   "metadata": {},
   "outputs": [],
   "source": []
  }
 ],
 "metadata": {
  "interpreter": {
   "hash": "9474f29699917144b1cf6d1f974d0d77bbd3e9cc97793190ec6042a28b2042d4"
  },
  "kernelspec": {
   "display_name": "Python 3.10.1 64-bit",
   "language": "python",
   "name": "python3"
  },
  "language_info": {
   "codemirror_mode": {
    "name": "ipython",
    "version": 3
   },
   "file_extension": ".py",
   "mimetype": "text/x-python",
   "name": "python",
   "nbconvert_exporter": "python",
   "pygments_lexer": "ipython3",
   "version": "3.10.1"
  },
  "orig_nbformat": 4
 },
 "nbformat": 4,
 "nbformat_minor": 2
}
